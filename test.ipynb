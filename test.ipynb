{
 "cells": [
  {
   "cell_type": "markdown",
   "metadata": {},
   "source": [
    "# Funciones de Prueba\n",
    "\n",
    "Este notebook puede ser utilizado para probar las funciones en `functions.py`."
   ]
  },
  {
   "cell_type": "code",
   "execution_count": 5,
   "metadata": {},
   "outputs": [
    {
     "name": "stdout",
     "output_type": "stream",
     "text": [
      "Successfully imported connect_to_supabase from functions.py\n"
     ]
    }
   ],
   "source": [
    "# Importo la función de conexión a la base de datos para poder usarla en el notebook\n",
    "try:\n",
    "    from functions import connect_to_supabase\n",
    "    print('Successfully imported connect_to_supabase from functions.py')\n",
    "except ImportError as e:\n",
    "    print(f'Error importing function: {e}')\n",
    "    print('Make sure functions.py is in the same directory or in the Python path.')"
   ]
  },
  {
   "cell_type": "code",
   "execution_count": 7,
   "id": "955988ad",
   "metadata": {},
   "outputs": [
    {
     "data": {
      "text/plain": [
       "True"
      ]
     },
     "execution_count": 7,
     "metadata": {},
     "output_type": "execute_result"
    }
   ],
   "source": [
    "# cargo las variables de entorno (.env)\n",
    "from dotenv import load_dotenv\n",
    "\n",
    "load_dotenv()"
   ]
  },
  {
   "cell_type": "code",
   "execution_count": 8,
   "metadata": {},
   "outputs": [],
   "source": [
    "# pruebo la conexión a la base de datos - si este paso da error, hay algo mal en el .env\n",
    "\n",
    "supabase_client = connect_to_supabase()"
   ]
  },
  {
   "cell_type": "code",
   "execution_count": 9,
   "id": "b23d9329",
   "metadata": {},
   "outputs": [
    {
     "name": "stdout",
     "output_type": "stream",
     "text": [
      "Successfully imported execute_query from functions.py\n"
     ]
    }
   ],
   "source": [
    "# importo la función de ejecución de queries para poder usarla en el notebook\n",
    "try:\n",
    "    from functions import execute_query\n",
    "    print('Successfully imported execute_query from functions.py')\n",
    "except ImportError as e:\n",
    "    print(f'Error importing function: {e}')\n",
    "    print('Make sure functions.py is in the same directory or in the Python path.')"
   ]
  },
  {
   "cell_type": "code",
   "execution_count": 10,
   "id": "e90c2198",
   "metadata": {},
   "outputs": [],
   "source": [
    "# defino una query de prueba para probar la conexión a la base de datos (esta query va a ser distinta en cada caso según la tabla que se quiera probar)\n",
    "\n",
    "query = \"SELECT * FROM usuarios\""
   ]
  },
  {
   "cell_type": "code",
   "execution_count": 11,
   "id": "4391fa5b",
   "metadata": {},
   "outputs": [
    {
     "data": {
      "text/html": [
       "<div>\n",
       "<style scoped>\n",
       "    .dataframe tbody tr th:only-of-type {\n",
       "        vertical-align: middle;\n",
       "    }\n",
       "\n",
       "    .dataframe tbody tr th {\n",
       "        vertical-align: top;\n",
       "    }\n",
       "\n",
       "    .dataframe thead th {\n",
       "        text-align: right;\n",
       "    }\n",
       "</style>\n",
       "<table border=\"1\" class=\"dataframe\">\n",
       "  <thead>\n",
       "    <tr style=\"text-align: right;\">\n",
       "      <th></th>\n",
       "      <th>id</th>\n",
       "      <th>usuario</th>\n",
       "      <th>contraseña</th>\n",
       "      <th>tipo_usuario</th>\n",
       "    </tr>\n",
       "  </thead>\n",
       "  <tbody>\n",
       "    <tr>\n",
       "      <th>0</th>\n",
       "      <td>1</td>\n",
       "      <td>admin1</td>\n",
       "      <td>adminpass</td>\n",
       "      <td>admin</td>\n",
       "    </tr>\n",
       "    <tr>\n",
       "      <th>1</th>\n",
       "      <td>2</td>\n",
       "      <td>empleado1</td>\n",
       "      <td>empleadopass</td>\n",
       "      <td>empleado</td>\n",
       "    </tr>\n",
       "    <tr>\n",
       "      <th>2</th>\n",
       "      <td>3</td>\n",
       "      <td>empleado2</td>\n",
       "      <td>empleadopass</td>\n",
       "      <td>empleado</td>\n",
       "    </tr>\n",
       "  </tbody>\n",
       "</table>\n",
       "</div>"
      ],
      "text/plain": [
       "   id    usuario    contraseña tipo_usuario\n",
       "0   1     admin1     adminpass        admin\n",
       "1   2  empleado1  empleadopass     empleado\n",
       "2   3  empleado2  empleadopass     empleado"
      ]
     },
     "execution_count": 11,
     "metadata": {},
     "output_type": "execute_result"
    }
   ],
   "source": [
    "execute_query(query)"
   ]
  },
  {
   "cell_type": "code",
   "execution_count": 12,
   "id": "21c9badb",
   "metadata": {},
   "outputs": [],
   "source": [
    "from functions import get_usuario_by_credentials   \n",
    "\n",
    "# --- Funciones auxiliares ---\n",
    "def login_user(username, password):\n",
    "    df = get_usuario_by_credentials(username, password)\n",
    "    if not df.empty:\n",
    "        return df\n",
    "    return False"
   ]
  },
  {
   "cell_type": "code",
   "execution_count": 15,
   "id": "c7249074",
   "metadata": {},
   "outputs": [
    {
     "data": {
      "text/html": [
       "<div>\n",
       "<style scoped>\n",
       "    .dataframe tbody tr th:only-of-type {\n",
       "        vertical-align: middle;\n",
       "    }\n",
       "\n",
       "    .dataframe tbody tr th {\n",
       "        vertical-align: top;\n",
       "    }\n",
       "\n",
       "    .dataframe thead th {\n",
       "        text-align: right;\n",
       "    }\n",
       "</style>\n",
       "<table border=\"1\" class=\"dataframe\">\n",
       "  <thead>\n",
       "    <tr style=\"text-align: right;\">\n",
       "      <th></th>\n",
       "      <th>id</th>\n",
       "      <th>usuario</th>\n",
       "      <th>tipo_usuario</th>\n",
       "    </tr>\n",
       "  </thead>\n",
       "  <tbody>\n",
       "    <tr>\n",
       "      <th>0</th>\n",
       "      <td>1</td>\n",
       "      <td>admin1</td>\n",
       "      <td>admin</td>\n",
       "    </tr>\n",
       "  </tbody>\n",
       "</table>\n",
       "</div>"
      ],
      "text/plain": [
       "   id usuario tipo_usuario\n",
       "0   1  admin1        admin"
      ]
     },
     "execution_count": 15,
     "metadata": {},
     "output_type": "execute_result"
    }
   ],
   "source": [
    "login_user(\"admin1\", \"adminpass\")"
   ]
  }
 ],
 "metadata": {
  "kernelspec": {
   "display_name": ".venv",
   "language": "python",
   "name": "python3"
  },
  "language_info": {
   "codemirror_mode": {
    "name": "ipython",
    "version": 3
   },
   "file_extension": ".py",
   "mimetype": "text/x-python",
   "name": "python",
   "nbconvert_exporter": "python",
   "pygments_lexer": "ipython3",
   "version": "3.13.2"
  }
 },
 "nbformat": 4,
 "nbformat_minor": 5
}
